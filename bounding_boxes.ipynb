{
 "cells": [
  {
   "cell_type": "code",
   "execution_count": 1,
   "id": "7b99842b",
   "metadata": {},
   "outputs": [],
   "source": [
    "# imports\n",
    "\n",
    "import numpy as np\n",
    "import math"
   ]
  },
  {
   "cell_type": "markdown",
   "id": "64205323",
   "metadata": {},
   "source": [
    "# Define new bounding boxes for cases where image basis changes\n",
    "\n",
    "Note: point rotations, filtering preserves the original coordinates of the target object, no need to redefine bounding boxes after augmentation\n",
    "\n",
    "image label(s): `<class_id> <x_center> <y_center> <width> <height>`\n",
    "-  All values of bounding box related to image are normalized by image width and height (values between 0 and 1).\n"
   ]
  },
  {
   "cell_type": "markdown",
   "id": "348948a8",
   "metadata": {},
   "source": [
    "### parse label items"
   ]
  },
  {
   "cell_type": "code",
   "execution_count": null,
   "id": "f099570f",
   "metadata": {},
   "outputs": [],
   "source": [
    "def parse_label_string(label_string):\n",
    "    \"\"\"\n",
    "    Parses a YOLO label string into components.\n",
    "    \n",
    "    Parameters:\n",
    "    - label_string: str, format '<class_id> <x_center> <y_center> <width> <height>'\n",
    "    \n",
    "    Returns:\n",
    "    - (class_id, x_center, y_center, width, height): tuple with class_id as str, others as floats\n",
    "    \"\"\"\n",
    "    parts = label_string.strip().split()\n",
    "    class_id = parts[0]\n",
    "    x_center = float(parts[1])\n",
    "    y_center = float(parts[2])\n",
    "    width = float(parts[3])\n",
    "    height = float(parts[4])\n",
    "    return class_id, x_center, y_center, width, height\n",
    "\n",
    "def format_label(class_id, x_center, y_center, width, height):\n",
    "    \"\"\"\n",
    "    Formats label components back into YOLO string format.\n",
    "    \"\"\"\n",
    "    return f\"{class_id} {x_center:.6f} {y_center:.6f} {width:.6f} {height:.6f}\""
   ]
  },
  {
   "cell_type": "markdown",
   "id": "7606656b",
   "metadata": {},
   "source": [
    "### bounding boxes for reflections"
   ]
  },
  {
   "cell_type": "code",
   "execution_count": null,
   "id": "aa8763b7",
   "metadata": {},
   "outputs": [],
   "source": [
    "def reflect_over_x_bbox(label_string):\n",
    "    \"\"\"\n",
    "    Reflects bounding box over x-axis (vertical flip).\n",
    "    \"\"\"\n",
    "    class_id, x_center, y_center, width, height = parse_label_string(label_string)\n",
    "    new_y_center = 1.0 - y_center\n",
    "    return format_label(class_id, x_center, new_y_center, width, height)"
   ]
  },
  {
   "cell_type": "code",
   "execution_count": null,
   "id": "abe4f14a",
   "metadata": {},
   "outputs": [],
   "source": [
    "def reflect_over_y_bbox(label_string):\n",
    "    \"\"\"\n",
    "    Reflects bounding box over y-axis (horizontal flip).\n",
    "    \"\"\"\n",
    "    class_id, x_center, y_center, width, height = parse_label_string(label_string)\n",
    "    new_x_center = 1.0 - x_center\n",
    "    return format_label(class_id, new_x_center, y_center, width, height)"
   ]
  },
  {
   "cell_type": "markdown",
   "id": "359206b6",
   "metadata": {},
   "source": [
    "### bounding boxes for rotations"
   ]
  },
  {
   "cell_type": "code",
   "execution_count": null,
   "id": "e0fc0226",
   "metadata": {},
   "outputs": [],
   "source": [
    "def rotate_bbox(label_string, image_shape, angle_degrees):\n",
    "    \"\"\"\n",
    "    Rotates a YOLO-format bounding box around the image center and returns a new axis-aligned bbox.\n",
    "    \n",
    "    Parameters:\n",
    "    - label_string: str, YOLO format '<class_id> <x_center> <y_center> <width> <height>'\n",
    "    - image_shape: tuple, (height, width) of the image\n",
    "    - angle_degrees: float, angle to rotate (clockwise)\n",
    "    \n",
    "    Returns:\n",
    "    - new_label_string: str, new YOLO-format bounding box\n",
    "    \"\"\"\n",
    "    class_id, xc, yc, w, h = parse_label_string(label_string)\n",
    "    img_h, img_w = image_shape\n",
    "\n",
    "    # convert to absolute coordinates\n",
    "    xc *= img_w\n",
    "    yc *= img_h\n",
    "    w *= img_w\n",
    "    h *= img_h\n",
    "\n",
    "    # get 4 corners of the bounding box\n",
    "    x1 = xc - w / 2\n",
    "    y1 = yc - h / 2\n",
    "    x2 = xc + w / 2\n",
    "    y2 = yc + h / 2\n",
    "    corners = np.array([\n",
    "        [x1, y1],\n",
    "        [x1, y2],\n",
    "        [x2, y1],\n",
    "        [x2, y2]\n",
    "    ])\n",
    "\n",
    "    # rotation matrix\n",
    "    angle_rad = math.radians(angle_degrees)\n",
    "    cos_a = math.cos(angle_rad)\n",
    "    sin_a = math.sin(angle_rad)\n",
    "\n",
    "    # image center\n",
    "    cx, cy = img_w / 2, img_h / 2\n",
    "\n",
    "    # rotate each corner\n",
    "    rotated = []\n",
    "    for x, y in corners:\n",
    "        # shift to origin\n",
    "        x -= cx\n",
    "        y -= cy\n",
    "        # rotate\n",
    "        xr = x * cos_a - y * sin_a\n",
    "        yr = x * sin_a + y * cos_a\n",
    "        # shift back\n",
    "        xr += cx\n",
    "        yr += cy\n",
    "        rotated.append([xr, yr])\n",
    "\n",
    "    rotated = np.array(rotated)\n",
    "\n",
    "    # get new axis-aligned bounding box\n",
    "    x_min, y_min = rotated.min(axis=0)\n",
    "    x_max, y_max = rotated.max(axis=0)\n",
    "\n",
    "    # re-normalize\n",
    "    new_xc = (x_min + x_max) / 2 / img_w\n",
    "    new_yc = (y_min + y_max) / 2 / img_h\n",
    "    new_w = (x_max - x_min) / img_w\n",
    "    new_h = (y_max - y_min) / img_h\n",
    "\n",
    "    return format_label(class_id, new_xc, new_yc, new_w, new_h)"
   ]
  },
  {
   "cell_type": "markdown",
   "id": "1eb08f2b",
   "metadata": {},
   "source": [
    "### bounding boxes for shears"
   ]
  },
  {
   "cell_type": "code",
   "execution_count": null,
   "id": "7bcc3e70",
   "metadata": {},
   "outputs": [],
   "source": [
    "def shear_bbox(label_string, image_shape, shear_factor_x=0.0, shear_factor_y=0.0):\n",
    "    \"\"\"\n",
    "    Apply shear to a YOLO bounding box and return the updated YOLO-format string.\n",
    "\n",
    "    Parameters:\n",
    "    - label_string: str, YOLO format '<class_id> <x_center> <y_center> <width> <height>'\n",
    "    - image_shape: tuple, (height, width)\n",
    "    - shear_factor_x: horizontal shear factor\n",
    "    - shear_factor_y: vertical shear factor\n",
    "\n",
    "    Returns:\n",
    "    - new_label_string: str, updated bounding box in YOLO format\n",
    "    \"\"\"\n",
    "    class_id, xc, yc, w, h = parse_label_string(label_string)\n",
    "    img_h, img_w = image_shape\n",
    "\n",
    "    # convert normalized to absolute coordinates\n",
    "    xc *= img_w\n",
    "    yc *= img_h\n",
    "    w *= img_w\n",
    "    h *= img_h\n",
    "\n",
    "    # get original corners\n",
    "    x1 = xc - w / 2\n",
    "    y1 = yc - h / 2\n",
    "    x2 = xc + w / 2\n",
    "    y2 = yc + h / 2\n",
    "    corners = np.array([\n",
    "        [x1, y1],\n",
    "        [x1, y2],\n",
    "        [x2, y1],\n",
    "        [x2, y2]\n",
    "    ])\n",
    "\n",
    "    # apply shear transformation\n",
    "    sheared = []\n",
    "    for x, y in corners:\n",
    "        new_x = x + shear_factor_x * y\n",
    "        new_y = y + shear_factor_y * x\n",
    "        sheared.append([new_x, new_y])\n",
    "\n",
    "    sheared = np.array(sheared)\n",
    "\n",
    "    # compute axis-aligned bounding box\n",
    "    x_min, y_min = sheared.min(axis=0)\n",
    "    x_max, y_max = sheared.max(axis=0)\n",
    "\n",
    "    # convert back to normalized\n",
    "    new_xc = (x_min + x_max) / 2 / img_w\n",
    "    new_yc = (y_min + y_max) / 2 / img_h\n",
    "    new_w = (x_max - x_min) / img_w\n",
    "    new_h = (y_max - y_min) / img_h\n",
    "\n",
    "    return format_label(class_id, new_xc, new_yc, new_w, new_h)\n"
   ]
  }
 ],
 "metadata": {
  "kernelspec": {
   "display_name": ".venv",
   "language": "python",
   "name": "python3"
  },
  "language_info": {
   "codemirror_mode": {
    "name": "ipython",
    "version": 3
   },
   "file_extension": ".py",
   "mimetype": "text/x-python",
   "name": "python",
   "nbconvert_exporter": "python",
   "pygments_lexer": "ipython3",
   "version": "3.13.2"
  }
 },
 "nbformat": 4,
 "nbformat_minor": 5
}
