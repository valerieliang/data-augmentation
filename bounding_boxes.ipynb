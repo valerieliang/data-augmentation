{
 "cells": [
  {
   "cell_type": "markdown",
   "id": "64205323",
   "metadata": {},
   "source": [
    "# Define new bounding boxes for cases where image basis changes\n",
    "\n",
    "Note: point rotations, filtering preserves the original coordinates of the target object, no need to redefine bounding boxes after augmentation\n",
    "\n",
    "image label(s): `<class_id> <x_center> <y_center> <width> <height>`\n",
    "-  All values of bounding box related to image are normalized by image width and height (values between 0 and 1).\n"
   ]
  },
  {
   "cell_type": "markdown",
   "id": "348948a8",
   "metadata": {},
   "source": [
    "### parse label items"
   ]
  },
  {
   "cell_type": "code",
   "execution_count": null,
   "id": "f099570f",
   "metadata": {},
   "outputs": [],
   "source": [
    "def parse_label_string(label_string):\n",
    "    \"\"\"\n",
    "    Parses a YOLO label string into components.\n",
    "    \n",
    "    Parameters:\n",
    "    - label_string: str, format '<class_id> <x_center> <y_center> <width> <height>'\n",
    "    \n",
    "    Returns:\n",
    "    - (class_id, x_center, y_center, width, height): tuple with class_id as str, others as floats\n",
    "    \"\"\"\n",
    "    parts = label_string.strip().split()\n",
    "    class_id = parts[0]\n",
    "    x_center = float(parts[1])\n",
    "    y_center = float(parts[2])\n",
    "    width = float(parts[3])\n",
    "    height = float(parts[4])\n",
    "    return class_id, x_center, y_center, width, height\n",
    "\n",
    "def format_label(class_id, x_center, y_center, width, height):\n",
    "    \"\"\"\n",
    "    Formats label components back into YOLO string format.\n",
    "    \"\"\"\n",
    "    return f\"{class_id} {x_center:.6f} {y_center:.6f} {width:.6f} {height:.6f}\""
   ]
  },
  {
   "cell_type": "markdown",
   "id": "7606656b",
   "metadata": {},
   "source": [
    "### bounding boxes for reflections"
   ]
  },
  {
   "cell_type": "code",
   "execution_count": null,
   "id": "aa8763b7",
   "metadata": {},
   "outputs": [],
   "source": [
    "def reflect_over_x(label_string):\n",
    "    \"\"\"\n",
    "    Reflects bounding box over x-axis (vertical flip).\n",
    "    \"\"\"\n",
    "    class_id, x_center, y_center, width, height = parse_label_string(label_string)\n",
    "    new_y_center = 1.0 - y_center\n",
    "    return format_label(class_id, x_center, new_y_center, width, height)"
   ]
  },
  {
   "cell_type": "code",
   "execution_count": null,
   "id": "abe4f14a",
   "metadata": {},
   "outputs": [],
   "source": [
    "def reflect_over_y(label_string):\n",
    "    \"\"\"\n",
    "    Reflects bounding box over y-axis (horizontal flip).\n",
    "    \"\"\"\n",
    "    class_id, x_center, y_center, width, height = parse_label_string(label_string)\n",
    "    new_x_center = 1.0 - x_center\n",
    "    return format_label(class_id, new_x_center, y_center, width, height)"
   ]
  }
 ],
 "metadata": {
  "language_info": {
   "name": "python"
  }
 },
 "nbformat": 4,
 "nbformat_minor": 5
}
