{
 "cells": [
  {
   "cell_type": "code",
   "execution_count": null,
   "id": "78d485f1",
   "metadata": {},
   "outputs": [],
   "source": [
    "# imports\n",
    "\n",
    "import cv2\n",
    "import numpy as np"
   ]
  },
  {
   "cell_type": "markdown",
   "id": "b187921b",
   "metadata": {},
   "source": [
    "# Point operations (I.4):  "
   ]
  },
  {
   "cell_type": "code",
   "execution_count": null,
   "id": "0753e265",
   "metadata": {},
   "outputs": [],
   "source": [
    "# changing exposure/brightness {brightening (1.5)}\n"
   ]
  },
  {
   "cell_type": "code",
   "execution_count": null,
   "id": "4f01afdd",
   "metadata": {},
   "outputs": [],
   "source": [
    "# contrast enhancement (I.6)\n"
   ]
  },
  {
   "cell_type": "code",
   "execution_count": null,
   "id": "34d30ff7",
   "metadata": {},
   "outputs": [],
   "source": [
    "# enhancing saturation\n",
    "\n",
    "# converting to black and white"
   ]
  },
  {
   "cell_type": "code",
   "execution_count": null,
   "id": "c40fae00",
   "metadata": {},
   "outputs": [],
   "source": [
    "# Introducing random salt and pepper noise\n"
   ]
  },
  {
   "cell_type": "markdown",
   "id": "206ffcdc",
   "metadata": {},
   "source": [
    "# Filtering using convolution (I.7, 15)"
   ]
  },
  {
   "cell_type": "code",
   "execution_count": null,
   "id": "613fa0a3",
   "metadata": {},
   "outputs": [],
   "source": [
    "# Gaussian Blur (example of weighted averaging filter (I.12))\n",
    "\n",
    "# Load the image\n",
    "image = cv2.imread('input_image.png')\n",
    "\n",
    "# Apply Gaussian blur with a 5x5 kernel and default sigma values\n",
    "blurred_image = cv2.GaussianBlur(image, (5, 5), 0)\n",
    "\n",
    "# Display the original and blurred images\n",
    "cv2.imshow('Original Image', image)\n",
    "cv2.imshow('Blurred Image', blurred_image)\n",
    "cv2.waitKey(0)\n",
    "cv2.destroyAllWindows()"
   ]
  },
  {
   "cell_type": "code",
   "execution_count": null,
   "id": "383e2731",
   "metadata": {},
   "outputs": [],
   "source": [
    "# Sharpen the image (I.55-59)\n"
   ]
  },
  {
   "cell_type": "markdown",
   "id": "9956d5ff",
   "metadata": {},
   "source": [
    "# Other (from linear algebra review):"
   ]
  },
  {
   "cell_type": "code",
   "execution_count": null,
   "id": "6f6405ae",
   "metadata": {},
   "outputs": [],
   "source": [
    "# Fixed/Random rotation"
   ]
  },
  {
   "cell_type": "code",
   "execution_count": null,
   "id": "0b9d3149",
   "metadata": {},
   "outputs": [],
   "source": [
    "# Shearing; typically padded with 0s (I.9), change in basis"
   ]
  },
  {
   "cell_type": "code",
   "execution_count": null,
   "id": "cfa274e7",
   "metadata": {},
   "outputs": [],
   "source": [
    "# Flipping image (reflection) "
   ]
  }
 ],
 "metadata": {
  "kernelspec": {
   "display_name": ".venv",
   "language": "python",
   "name": "python3"
  },
  "language_info": {
   "name": "python",
   "version": "3.13.2"
  }
 },
 "nbformat": 4,
 "nbformat_minor": 5
}
