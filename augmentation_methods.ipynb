{
 "cells": [
  {
   "cell_type": "markdown",
   "id": "b187921b",
   "metadata": {},
   "source": [
    "# Point operations (I.4):  "
   ]
  },
  {
   "cell_type": "code",
   "execution_count": null,
   "id": "0753e265",
   "metadata": {
    "vscode": {
     "languageId": "plaintext"
    }
   },
   "outputs": [],
   "source": [
    "# changing exposure/brightness {brightening (1.5)}\n"
   ]
  },
  {
   "cell_type": "code",
   "execution_count": null,
   "id": "4f01afdd",
   "metadata": {
    "vscode": {
     "languageId": "plaintext"
    }
   },
   "outputs": [],
   "source": [
    "# contrast enhancement (I.6)\n"
   ]
  },
  {
   "cell_type": "code",
   "execution_count": null,
   "id": "34d30ff7",
   "metadata": {
    "vscode": {
     "languageId": "plaintext"
    }
   },
   "outputs": [],
   "source": [
    "# enhancing saturation\n",
    "\n",
    "# converting to black and white"
   ]
  },
  {
   "cell_type": "code",
   "execution_count": null,
   "id": "c40fae00",
   "metadata": {
    "vscode": {
     "languageId": "plaintext"
    }
   },
   "outputs": [],
   "source": [
    "# Introducing random salt and pepper noise\n"
   ]
  },
  {
   "cell_type": "markdown",
   "id": "206ffcdc",
   "metadata": {},
   "source": [
    "# Filtering using convolution (I.7, 15)"
   ]
  },
  {
   "cell_type": "code",
   "execution_count": null,
   "id": "613fa0a3",
   "metadata": {
    "vscode": {
     "languageId": "plaintext"
    }
   },
   "outputs": [],
   "source": [
    "# Gaussian Blur (example of weighted averaging filter (I.12))\n"
   ]
  },
  {
   "cell_type": "code",
   "execution_count": null,
   "id": "383e2731",
   "metadata": {
    "vscode": {
     "languageId": "plaintext"
    }
   },
   "outputs": [],
   "source": [
    "# Sharpen the image (I.55-59)\n"
   ]
  },
  {
   "cell_type": "markdown",
   "id": "9956d5ff",
   "metadata": {},
   "source": [
    "# Other (from linear algebra review):\n"
   ]
  },
  {
   "cell_type": "code",
   "execution_count": null,
   "id": "6f6405ae",
   "metadata": {
    "vscode": {
     "languageId": "plaintext"
    }
   },
   "outputs": [],
   "source": [
    "# Fixed/Random rotation"
   ]
  },
  {
   "cell_type": "code",
   "execution_count": null,
   "id": "0b9d3149",
   "metadata": {
    "vscode": {
     "languageId": "plaintext"
    }
   },
   "outputs": [],
   "source": [
    "# Shearing; typically padded with 0s (I.9), change in basis"
   ]
  },
  {
   "cell_type": "code",
   "execution_count": null,
   "id": "cfa274e7",
   "metadata": {
    "vscode": {
     "languageId": "plaintext"
    }
   },
   "outputs": [],
   "source": [
    "# Flipping image (reflection) "
   ]
  }
 ],
 "metadata": {
  "language_info": {
   "name": "python"
  }
 },
 "nbformat": 4,
 "nbformat_minor": 5
}
