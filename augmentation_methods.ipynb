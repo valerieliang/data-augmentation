{
 "cells": [
  {
   "cell_type": "markdown",
   "id": "6f4b6cf5",
   "metadata": {},
   "source": [
    "# Mathematical Image Analysis Final Project: Dataset Augmentation"
   ]
  },
  {
   "cell_type": "markdown",
   "id": "c73712f9",
   "metadata": {},
   "source": [
    "## import libraries"
   ]
  },
  {
   "cell_type": "code",
   "execution_count": null,
   "id": "e9a98788",
   "metadata": {},
   "outputs": [],
   "source": [
    "import matplotlib.pyplot as plt\n",
    "import cv2\n",
    "from PIL import Image\n",
    "import numpy as np"
   ]
  },
  {
   "cell_type": "markdown",
   "id": "fe483914",
   "metadata": {},
   "source": [
    "## import sample image"
   ]
  },
  {
   "cell_type": "code",
   "execution_count": null,
   "id": "2be76ad0",
   "metadata": {},
   "outputs": [],
   "source": [
    "# Load the image using OpenCV (note: this loads in BGR format)\n",
    "img = cv2.imread('motorcycle.jpg')\n",
    "# Convert BGR to RGB for display\n",
    "img_rgb = cv2.cvtColor(img, cv2.COLOR_BGR2RGB)\n",
    "\n",
    "# Display the image\n",
    "plt.figure(figsize=(10, 8))\n",
    "plt.imshow(img_rgb)\n",
    "plt.title('Motorcycle Image')\n",
    "plt.axis('on')\n",
    "plt.show()\n",
    "\n",
    "# get image as numpy array\n",
    "img_array = np.array(img_rgb)"
   ]
  },
  {
   "cell_type": "markdown",
   "id": "b187921b",
   "metadata": {},
   "source": [
    "# Point operations (I.4):  "
   ]
  },
  {
   "cell_type": "code",
   "execution_count": null,
   "id": "0753e265",
   "metadata": {},
   "outputs": [],
   "source": [
    "# changing exposure/brightness {brightening (1.5)}\n"
   ]
  },
  {
   "cell_type": "code",
   "execution_count": null,
   "id": "4f01afdd",
   "metadata": {},
   "outputs": [],
   "source": [
    "# contrast enhancement (I.6)\n"
   ]
  },
  {
   "cell_type": "code",
   "execution_count": null,
   "id": "34d30ff7",
   "metadata": {},
   "outputs": [],
   "source": [
    "# enhancing saturation\n",
    "\n",
    "# converting to black and white"
   ]
  },
  {
   "cell_type": "code",
   "execution_count": null,
   "id": "c40fae00",
   "metadata": {},
   "outputs": [],
   "source": [
    "# Introducing random salt and pepper noise\n"
   ]
  },
  {
   "cell_type": "markdown",
   "id": "206ffcdc",
   "metadata": {},
   "source": [
    "# Filtering using convolution (I.7, 15)"
   ]
  },
  {
   "cell_type": "code",
   "execution_count": null,
   "id": "6ba6e0b6",
   "metadata": {},
   "outputs": [],
   "source": [
    "def convolution2d(image, kernel, stride=1):\n",
    "    \"\"\"\n",
    "    Helper function to perform a 2D convolution on an image with a given kernel.\n",
    "    Parameters:\n",
    "    - image: 2D numpy array representing the input image\n",
    "    - kernel: 2D numpy array representing the convolution kernel\n",
    "    - stride: integer, the step size for the convolution (1)\n",
    "    Returns:\n",
    "    - output: 2D numpy array representing the convolved image\n",
    "    \"\"\"\n",
    "    \n",
    "    # get dimensions\n",
    "    image_height, image_width = image.shape\n",
    "    kernel_height, kernel_width = kernel.shape\n",
    "\n",
    "    # pads to keep output the same size as input\n",
    "    pad_h = (kernel_height - 1) // 2\n",
    "    pad_w = (kernel_width - 1) // 2\n",
    "\n",
    "    # output array\n",
    "    output_height = (image_height - kernel_height + 2 * pad_h) // stride + 1\n",
    "    output_width = (image_width - kernel_width + 2 * pad_w) // stride + 1\n",
    "\n",
    "    output = np.zeros((output_height, output_width))\n",
    "    padded_image = np.pad(image, ((pad_h, pad_h), (pad_w, pad_w)), mode='reflect')\n",
    "\n",
    "    # convolve image and filter\n",
    "    for y in range(output_height):\n",
    "        for x in range(output_width):\n",
    "            region = padded_image[y * stride:y * stride + kernel_height,\n",
    "                                  x * stride:x * stride + kernel_width]\n",
    "            output[y, x] = np.sum(region * kernel)\n",
    "\n",
    "    return output"
   ]
  },
  {
   "cell_type": "code",
   "execution_count": null,
   "id": "613fa0a3",
   "metadata": {},
   "outputs": [],
   "source": [
    "# Gaussian Blur (example of weighted averaging filter (I.12))\n",
    "def gaussian_blur(image, kernel_size=9, sigma=1.0):\n",
    "    \"\"\"\n",
    "    Apply Gaussian blur to an image using a Gaussian kernel (handles RGB images).\n",
    "    Parameters:\n",
    "    - image: 2D numpy array representing the input image\n",
    "    - kernel_size: size of the Gaussian kernel (must be odd)\n",
    "    - sigma: standard deviation of the Gaussian distribution\n",
    "    Returns:\n",
    "    - blurred_image: 2D numpy array representing the blurred image\n",
    "    \"\"\"\n",
    "    \n",
    "    # set up the kernel\n",
    "    gaussian_blur_kernel = np.zeros((kernel_size, kernel_size), dtype=np.float32)\n",
    "    center = kernel_size // 2\n",
    "    for x in range(kernel_size):\n",
    "        for y in range(kernel_size):\n",
    "            gaussian_blur_kernel[x, y] = (1 / (2 * np.pi * sigma ** 2)) * \\\n",
    "                np.exp(-((x - center) ** 2 + (y - center) ** 2) / (2 * sigma ** 2))\n",
    "    gaussian_blur_kernel /= np.sum(gaussian_blur_kernel)\n",
    "\n",
    "    # handle grayscale and RGB images\n",
    "    if image.ndim == 2:\n",
    "        return convolution2d(image, gaussian_blur_kernel)\n",
    "    elif image.ndim == 3:\n",
    "        blurred_channels = [\n",
    "            convolution2d(image[:, :, c], gaussian_blur_kernel)\n",
    "            for c in range(image.shape[2])\n",
    "        ]\n",
    "        return np.stack(blurred_channels, axis=-1)"
   ]
  },
  {
   "cell_type": "code",
   "execution_count": null,
   "id": "1b678ab6",
   "metadata": {},
   "outputs": [],
   "source": [
    "# test the Gaussian blur function\n",
    "plt.figure(figsize=(15, 5))\n",
    "plt.subplot(1, 3, 1)\n",
    "plt.imshow(img_rgb)\n",
    "plt.title(\"Original\")\n",
    "\n",
    "plt.subplot(1, 3, 2)\n",
    "plt.imshow(cv2.GaussianBlur(img_rgb, (9, 9), sigmaX=1.0))\n",
    "plt.title(\"OpenCV Blur\")\n",
    "\n",
    "plt.subplot(1, 3, 3)\n",
    "plt.imshow(gaussian_blur(img_rgb, kernel_size=9, sigma=1.0).astype(np.uint8))\n",
    "plt.title(\"Manual Blur\")\n",
    "\n",
    "plt.tight_layout()\n",
    "plt.show()\n"
   ]
  },
  {
   "cell_type": "code",
   "execution_count": null,
   "id": "383e2731",
   "metadata": {},
   "outputs": [],
   "source": [
    "# Sharpen the image (I.55-59)\n",
    "def sharpen_image(image):\n",
    "    \"\"\"\n",
    "    Sharpen the image using a Laplacian kernel.\n",
    "    Parameters:\n",
    "    - image: 2D numpy array representing the input image\n",
    "    Returns:\n",
    "    - sharpened_image: 2D numpy array representing the sharpened image\n",
    "    \"\"\"\n",
    "    # define kernel\n",
    "    laplacian_kernel = np.array([[0, -1, 0],\n",
    "                                  [-1, 5, -1],\n",
    "                                  [0, -1, 0]])\n",
    "    \n",
    "    # apply convolution to sharpen the image\n",
    "    sharpened_image = convolution2d(image, laplacian_kernel)\n",
    "    \n",
    "    return sharpened_image"
   ]
  },
  {
   "cell_type": "code",
   "execution_count": null,
   "id": "c3ff5411",
   "metadata": {},
   "outputs": [],
   "source": []
  },
  {
   "cell_type": "markdown",
   "id": "9956d5ff",
   "metadata": {},
   "source": [
    "# Other (from linear algebra review):\n"
   ]
  },
  {
   "cell_type": "code",
   "execution_count": null,
   "id": "6f6405ae",
   "metadata": {},
   "outputs": [],
   "source": [
    "# Fixed/Random rotation"
   ]
  },
  {
   "cell_type": "code",
   "execution_count": null,
   "id": "0b9d3149",
   "metadata": {},
   "outputs": [],
   "source": [
    "# Shearing; typically padded with 0s (I.9), change in basis"
   ]
  },
  {
   "cell_type": "code",
   "execution_count": null,
   "id": "cfa274e7",
   "metadata": {},
   "outputs": [],
   "source": [
    "# Flipping image (reflection) "
   ]
  }
 ],
 "metadata": {
  "kernelspec": {
   "display_name": ".venv",
   "language": "python",
   "name": "python3"
  },
  "language_info": {
   "codemirror_mode": {
    "name": "ipython",
    "version": 3
   },
   "file_extension": ".py",
   "mimetype": "text/x-python",
   "name": "python",
   "nbconvert_exporter": "python",
   "pygments_lexer": "ipython3",
   "version": "3.13.2"
  }
 },
 "nbformat": 4,
 "nbformat_minor": 5
}
